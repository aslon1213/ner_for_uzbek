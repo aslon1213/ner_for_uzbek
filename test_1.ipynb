{
 "cells": [
  {
   "cell_type": "code",
   "execution_count": 2,
   "metadata": {},
   "outputs": [
    {
     "data": {
      "text/plain": [
       "{'uz': {'texts': [['Pul', \"o'tkazish\"],\n",
       "   ['Aslonga', 'pul', 'otkaz'],\n",
       "   ['Asadbek', 'aka', 'bugun', 'qayerga', 'boramiz'],\n",
       "   ['переведи', 'деньги', 'с', 'карты', 'на', 'карту'],\n",
       "   ['Aziza', \"to'lovi\", 'haqida', \"ma'umot\", 'ber']],\n",
       "  'entities': [['O', 'O'],\n",
       "   ['B-PERSON', 'O', 'O'],\n",
       "   ['B-PERSON', 'O', 'O', 'O', 'O'],\n",
       "   ['O', 'O', 'O', 'O', 'O', 'O'],\n",
       "   ['B-PERSON', 'O', 'O', 'O', 'O']]},\n",
       " 'ru': {'texts': [['Aziza', \"to'lovi\", 'haqida', \"ma'umot\", 'ber']],\n",
       "  'entities': []}}"
      ]
     },
     "execution_count": 2,
     "metadata": {},
     "output_type": "execute_result"
    }
   ],
   "source": [
    "from requests import request\n",
    "\n",
    "\n",
    "resp = request(\"GET\", \"http://10.10.100.10:5001/many\", json={\n",
    "    \"texts\":[\"Pul o'tkazish\", \"Aslonga pul otkaz\", \"Asadbek aka bugun qayerga boramiz\", \"переведи деньги с карты на карту\", \"Aziza to'lovi haqida ma'umot ber\"]\n",
    "})\n",
    "resp.json()"
   ]
  },
  {
   "cell_type": "code",
   "execution_count": 11,
   "metadata": {},
   "outputs": [
    {
     "data": {
      "text/plain": [
       "{'uz': {'texts': [['Pul', \"o'tkazish\"],\n",
       "   ['Aslonga', 'pul', 'otkaz'],\n",
       "   ['Asadbek', 'aka', 'bugun', 'qayerga', 'boramiz'],\n",
       "   ['переведи', 'деньги', 'с', 'карты', 'на', 'карту'],\n",
       "   ['Aziza', \"to'lovi\", 'haqida', \"ma'umot\", 'ber'],\n",
       "   ['aka', 'pul', 'otkazish'],\n",
       "   ['aka', 'kartasiga', 'pul', 'otkazish'],\n",
       "   ['aka', 'kartasiga', 'pul', 'otkazish'],\n",
       "   ['dada', 'karatasiga', 'pul', 'otkazish'],\n",
       "   ['dada', 'pul', \"o'tkaz\"],\n",
       "   ['dada', 'kartasiga', 'pul', 'otkazish']],\n",
       "  'entities': [['O', 'O'],\n",
       "   ['B-PERSON', 'O', 'O'],\n",
       "   ['B-PERSON', 'O', 'O', 'O', 'O'],\n",
       "   ['O', 'O', 'O', 'O', 'O', 'O'],\n",
       "   ['B-PERSON', 'O', 'O', 'O', 'O'],\n",
       "   ['B-PERSON', 'O', 'O'],\n",
       "   ['B-PERSON', 'O', 'O', 'O'],\n",
       "   ['B-PERSON', 'O', 'O', 'O'],\n",
       "   ['B-PERSON', 'O', 'O', 'O'],\n",
       "   ['B-PERSON', 'O', 'O'],\n",
       "   ['B-PERSON', 'O', 'O', 'O']]},\n",
       " 'ru': {'texts': [['dadamni', 'kartasiga', 'pul', 'otkazish']],\n",
       "  'entities': []}}"
      ]
     },
     "execution_count": 11,
     "metadata": {},
     "output_type": "execute_result"
    }
   ],
   "source": [
    "from requests import request\n",
    "\n",
    "\n",
    "resp = request(\"GET\", \"http://localhost:8000/many\", json={\n",
    "    \"texts\":[\"Pul o'tkazish\", \"Aslonga pul otkaz\", \"Asadbek aka bugun qayerga boramiz\", \"переведи деньги с карты на карту\", \"Aziza to'lovi haqida ma'umot ber\", \"akamga pul otkazish\", \"Akamning kartasiga pul otkazish\", \"Akamni kartasiga pul otkazish\", \"dadamni karatasiga pul otkazish\", \"dadamga pul o'tkaz\", \"dadamni kartasiga pul otkazish\"]\n",
    "})\n",
    "resp.json()"
   ]
  },
  {
   "cell_type": "code",
   "execution_count": null,
   "metadata": {},
   "outputs": [],
   "source": []
  }
 ],
 "metadata": {
  "kernelspec": {
   "display_name": "env",
   "language": "python",
   "name": "python3"
  },
  "language_info": {
   "codemirror_mode": {
    "name": "ipython",
    "version": 3
   },
   "file_extension": ".py",
   "mimetype": "text/x-python",
   "name": "python",
   "nbconvert_exporter": "python",
   "pygments_lexer": "ipython3",
   "version": "3.11.6"
  }
 },
 "nbformat": 4,
 "nbformat_minor": 2
}
