{
 "cells": [
  {
   "cell_type": "code",
   "execution_count": 1,
   "metadata": {},
   "outputs": [
    {
     "data": {
      "text/plain": [
       "{'detail': 'Not Found'}"
      ]
     },
     "execution_count": 1,
     "metadata": {},
     "output_type": "execute_result"
    }
   ],
   "source": [
    "from requests import request\n",
    "\n",
    "\n",
    "resp = request(\"GET\", \"http://10.10.100.10:5001/many\", json={\n",
    "    \"texts\":[\"Pul o'tkazish\", \"Aslonga pul otkaz\", \"Asadbek aka bugun qayerga boramiz\", \"переведи деньги с карты на карту\", \"Aziza to'lovi haqida ma'umot ber\"]\n",
    "})\n",
    "resp.json()"
   ]
  }
 ],
 "metadata": {
  "kernelspec": {
   "display_name": "env",
   "language": "python",
   "name": "python3"
  },
  "language_info": {
   "codemirror_mode": {
    "name": "ipython",
    "version": 3
   },
   "file_extension": ".py",
   "mimetype": "text/x-python",
   "name": "python",
   "nbconvert_exporter": "python",
   "pygments_lexer": "ipython3",
   "version": "3.11.6"
  }
 },
 "nbformat": 4,
 "nbformat_minor": 2
}
