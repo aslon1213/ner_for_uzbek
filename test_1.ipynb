{
 "cells": [
  {
   "cell_type": "code",
   "execution_count": null,
   "metadata": {},
   "outputs": [],
   "source": [
    "from requests import request\n",
    "\n",
    "\n",
    "resp = request(\"GET\", \"http://localhost:8000/many\", json={\n",
    "    \"texts\":[\"Pul o'tkazish\", \"Aslonga pul otkaz\", \"Asadbek aka bugun qayerga boramiz\", \"переведи деньги с карты на карту\", \"Aziza to'lovi haqida ma'umot ber\"]\n",
    "})\n",
    "resp.json()"
   ]
  }
 ],
 "metadata": {
  "language_info": {
   "name": "python"
  }
 },
 "nbformat": 4,
 "nbformat_minor": 2
}
