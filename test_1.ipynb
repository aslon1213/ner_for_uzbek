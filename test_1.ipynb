{
 "cells": [
  {
   "cell_type": "code",
   "execution_count": 2,
   "metadata": {},
   "outputs": [
    {
     "data": {
      "text/plain": [
       "{'uz': {'texts': [['Pul', \"o'tkazish\"],\n",
       "   ['Aslonga', 'pul', 'otkaz'],\n",
       "   ['Asadbek', 'aka', 'bugun', 'qayerga', 'boramiz'],\n",
       "   ['переведи', 'деньги', 'с', 'карты', 'на', 'карту'],\n",
       "   ['Aziza', \"to'lovi\", 'haqida', \"ma'umot\", 'ber']],\n",
       "  'entities': [['O', 'O'],\n",
       "   ['B-PERSON', 'O', 'O'],\n",
       "   ['B-PERSON', 'O', 'O', 'O', 'O'],\n",
       "   ['O', 'O', 'O', 'O', 'O', 'O'],\n",
       "   ['B-PERSON', 'O', 'O', 'O', 'O']]},\n",
       " 'ru': {'texts': [['Aziza', \"to'lovi\", 'haqida', \"ma'umot\", 'ber']],\n",
       "  'entities': []}}"
      ]
     },
     "execution_count": 2,
     "metadata": {},
     "output_type": "execute_result"
    }
   ],
   "source": [
    "from requests import request\n",
    "\n",
    "\n",
    "resp = request(\"GET\", \"http://10.10.100.10:5001/many\", json={\n",
    "    \"texts\":[\"Pul o'tkazish\", \"Aslonga pul otkaz\", \"Asadbek aka bugun qayerga boramiz\", \"переведи деньги с карты на карту\", \"Aziza to'lovi haqida ma'umot ber\"]\n",
    "})\n",
    "resp.json()"
   ]
  },
  {
   "cell_type": "code",
   "execution_count": 7,
   "metadata": {},
   "outputs": [
    {
     "data": {
      "text/plain": [
       "{'uz': {'texts': [['Pul', \"o'tkazish\"],\n",
       "   ['Aslonga', 'pul', 'otkaz'],\n",
       "   ['Asadbek', 'aka', 'bugun', 'qayerga', 'boramiz'],\n",
       "   ['переведи', 'деньги', 'с', 'карты', 'на', 'карту'],\n",
       "   ['Aziza', \"to'lovi\", 'haqida', \"ma'umot\", 'ber'],\n",
       "   ['aka', 'pul', 'otkazish'],\n",
       "   ['aka', 'kartasiga', 'pul', 'otkazish'],\n",
       "   ['aka', 'kartasiga', 'pul', 'otkazish'],\n",
       "   ['dada', 'karatasiga', 'pul', 'otkazish'],\n",
       "   ['dada', 'pul', \"o'tkaz\"],\n",
       "   ['dada', 'kartasiga', 'pul', 'otkazish']],\n",
       "  'entities': [['O', 'O'],\n",
       "   ['B-PERSON', 'O', 'O'],\n",
       "   ['B-PERSON', 'O', 'O', 'O', 'O'],\n",
       "   ['O', 'O', 'O', 'O', 'O', 'O'],\n",
       "   ['B-PERSON', 'O', 'O', 'O', 'O'],\n",
       "   ['B-PERSON', 'O', 'O'],\n",
       "   ['B-PERSON', 'O', 'O', 'O'],\n",
       "   ['B-PERSON', 'O', 'O', 'O'],\n",
       "   ['B-PERSON', 'O', 'O', 'O'],\n",
       "   ['B-PERSON', 'O', 'O'],\n",
       "   ['B-PERSON', 'O', 'O', 'O']]},\n",
       " 'ru': {'texts': [['dadamni', 'kartasiga', 'pul', 'otkazish']],\n",
       "  'entities': []}}"
      ]
     },
     "execution_count": 7,
     "metadata": {},
     "output_type": "execute_result"
    }
   ],
   "source": [
    "from requests import request\n",
    "\n",
    "\n",
    "resp = request(\"GET\", \"http://localhost:8000/many\", json={\n",
    "    \"texts\":[\"Pul o'tkazish\", \"Aslonga pul otkaz\", \"Asadbek aka bugun qayerga boramiz\", \"переведи деньги с карты на карту\", \"Aziza to'lovi haqida ma'umot ber\", \"akamga pul otkazish\", \"Akamning kartasiga pul otkazish\", \"Akamni kartasiga pul otkazish\", \"dadamni karatasiga pul otkazish\", \"dadamga pul o'tkaz\", \"dadamni kartasiga pul otkazish\"]\n",
    "})\n",
    "resp.json()"
   ]
  },
  {
   "cell_type": "markdown",
   "metadata": {},
   "source": [
    "docker run -d \\\n",
    "  -v ./person_ner_server.py:/app/person_ner_server.py \\\n",
    "  -v ./utils:/app/utils \\\n",
    "  -p 8000:8000 \\\n",
    "  --name person_ner_service_container \\\n",
    "  deeppavlov/deeppavlov:latest"
   ]
  },
  {
   "cell_type": "code",
   "execution_count": null,
   "metadata": {},
   "outputs": [],
   "source": [
    "docker run -d --net consultant_ai -v ./person_ner_server.py:/app/person_ner_server.py -v ./utils:/app/utils -v ./loop.py:/app/loop.py -p 5000:8000 --name ner_for_names aslon1213/ner_for_names:latest"
   ]
  },
  {
   "cell_type": "code",
   "execution_count": 1,
   "metadata": {},
   "outputs": [
    {
     "name": "stdout",
     "output_type": "stream",
     "text": [
      "Encoded output: [65, 66, 257, 257, 67, 260, 68, 68]\n"
     ]
    }
   ],
   "source": [
    "def lzw_encode(input_string):\n",
    "    # Initialize the dictionary with single character mappings\n",
    "    dictionary = {chr(i): i for i in range(256)}  # ASCII table\n",
    "    next_code = 256  # Next available code after ASCII\n",
    "    \n",
    "    current_sequence = \"\"\n",
    "    encoded_output = []\n",
    "\n",
    "    for char in input_string:\n",
    "        new_sequence = current_sequence + char\n",
    "        if new_sequence in dictionary:\n",
    "            current_sequence = new_sequence\n",
    "        else:\n",
    "            # Output the code for the current sequence\n",
    "            encoded_output.append(dictionary[current_sequence])\n",
    "            \n",
    "            # Add the new sequence to the dictionary\n",
    "            dictionary[new_sequence] = next_code\n",
    "            next_code += 1\n",
    "            \n",
    "            # Reset current sequence to the current character\n",
    "            current_sequence = char\n",
    "\n",
    "    # Output the code for the last sequence\n",
    "    if current_sequence:\n",
    "        encoded_output.append(dictionary[current_sequence])\n",
    "\n",
    "    return encoded_output\n",
    "\n",
    "# Example usage\n",
    "input_string = \"ABBBBBCCCDD\"\n",
    "encoded_output = lzw_encode(input_string)\n",
    "print(\"Encoded output:\", encoded_output)"
   ]
  },
  {
   "cell_type": "code",
   "execution_count": 2,
   "metadata": {},
   "outputs": [
    {
     "name": "stdout",
     "output_type": "stream",
     "text": [
      "Encoded output: [-190, -189, 258, 258, -188, 261, -187, -187]\n"
     ]
    }
   ],
   "source": [
    "def lzw_encode(input_string):\n",
    "    # Step 1: Initialize the dictionary with single character mappings, starting from index 1\n",
    "    dictionary = {chr(i): i - 255 for i in range(256)}  # Start ASCII characters from index 1\n",
    "    next_code = len(dictionary) + 1  # Start next code after initial dictionary size\n",
    "    \n",
    "    current_sequence = \"\"  # To hold the current sequence being built\n",
    "    encoded_output = []    # List to store the output encoded values\n",
    "\n",
    "    # Step 2: Go through each character in the input string\n",
    "    for char in input_string:\n",
    "        new_sequence = current_sequence + char\n",
    "        # Step 3: If new sequence is in dictionary, update current sequence\n",
    "        if new_sequence in dictionary:\n",
    "            current_sequence = new_sequence\n",
    "        else:\n",
    "            # Step 4: If not in dictionary, output code for current sequence\n",
    "            encoded_output.append(dictionary[current_sequence])\n",
    "            # Add new sequence to dictionary with the next available code\n",
    "            dictionary[new_sequence] = next_code\n",
    "            next_code += 1\n",
    "            # Reset current sequence to the current character\n",
    "            current_sequence = char\n",
    "\n",
    "    # Step 5: Output code for the last sequence if there's one\n",
    "    if current_sequence:\n",
    "        encoded_output.append(dictionary[current_sequence])\n",
    "\n",
    "    return encoded_output\n",
    "\n",
    "# Example usage\n",
    "input_string = \"ABBBBBCCCDD\"\n",
    "encoded_output = lzw_encode(input_string)\n",
    "print(\"Encoded output:\", encoded_output)"
   ]
  }
 ],
 "metadata": {
  "kernelspec": {
   "display_name": "env",
   "language": "python",
   "name": "python3"
  },
  "language_info": {
   "codemirror_mode": {
    "name": "ipython",
    "version": 3
   },
   "file_extension": ".py",
   "mimetype": "text/x-python",
   "name": "python",
   "nbconvert_exporter": "python",
   "pygments_lexer": "ipython3",
   "version": "3.11.6"
  }
 },
 "nbformat": 4,
 "nbformat_minor": 2
}
